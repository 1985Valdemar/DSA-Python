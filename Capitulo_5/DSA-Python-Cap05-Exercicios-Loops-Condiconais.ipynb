{
 "cells": [
  {
   "cell_type": "markdown",
   "metadata": {},
   "source": [
    "# <font color='blue'>Data Science Academy</font>\n",
    "\n",
    "## <font color='blue'>Fundamentos de Linguagem Python Para Análise de Dados e Data Science</font>\n",
    "\n",
    "## <font color='blue'>Capítulo 5 - Exercícios de Loops e Condicionais</font>"
   ]
  },
  {
   "cell_type": "code",
   "execution_count": null,
   "metadata": {},
   "outputs": [],
   "source": [
    "# Versão da Linguagem Python\n",
    "from platform import python_version\n",
    "print('Versão da Linguagem Python Usada Neste Jupyter Notebook:', python_version())"
   ]
  },
  {
   "cell_type": "markdown",
   "metadata": {},
   "source": [
    "## Exercícios - Loops e Condiconais"
   ]
  },
  {
   "cell_type": "code",
   "execution_count": 5,
   "metadata": {},
   "outputs": [
    {
     "name": "stdout",
     "output_type": "stream",
     "text": [
      "Hoje é Dia De Descanso\n"
     ]
    }
   ],
   "source": [
    "# Exercício 1 - Crie uma estrutura que pergunte ao usuário qual o dia da semana. Se o dia for igual a Domingo ou \n",
    "# igual a sábado, imprima na tela \"Hoje é dia de descanso\", caso contrário imprima na tela \"Você precisa trabalhar!\"\n",
    "dia = input(\"Digite Dia da semana\")\n",
    "while dia == \"domingo\" or dia ==\"sabado\":\n",
    "    print(\"Hoje é Dia De Descanso\")\n",
    "    break\n",
    "else:\n",
    "    print(\"Você Precisa Trabalhar!!\")\n",
    "    "
   ]
  },
  {
   "cell_type": "code",
   "execution_count": 16,
   "metadata": {},
   "outputs": [
    {
     "name": "stdout",
     "output_type": "stream",
     "text": [
      "sua fruta esta lista\n",
      "Morango não está lista\n",
      "Morango não está lista\n",
      "Morango não está lista\n",
      "sua fruta esta lista\n"
     ]
    }
   ],
   "source": [
    "# Exercício 2 - Crie uma lista de 5 frutas e verifique se a fruta 'Morango' faz parte da lista\n",
    "frutas = [\"morango\", \"banana\", \"uva\", \"melancia\",\"morango\"]\n",
    "for fruta in frutas:\n",
    "    if fruta == \"morango\":\n",
    "        print(\"sua fruta esta lista\")\n",
    "    else: \n",
    "        print(\"Morango não está lista\")\n",
    "    "
   ]
  },
  {
   "cell_type": "code",
   "execution_count": 17,
   "metadata": {},
   "outputs": [
    {
     "name": "stdout",
     "output_type": "stream",
     "text": [
      "['F100F100', 4, 'F1000F1000', 6, 'D10D10', 8, 'D20D20', 10]\n"
     ]
    }
   ],
   "source": [
    "# Exercício 3 - Crie uma tupla de 4 elementos, multiplique cada elemento da tupla por 2 e guarde os resultados em uma \n",
    "# lista\n",
    "elementos = (\"F100\",2, \"F1000\",3, \"D10\",4, \"D20\",5)\n",
    "list1 = []\n",
    "for i in elementos:\n",
    "    novo_valor = i * 2\n",
    "    list1.append(novo_valor)\n",
    "print(list1)\n",
    "\n"
   ]
  },
  {
   "cell_type": "code",
   "execution_count": 19,
   "metadata": {},
   "outputs": [
    {
     "name": "stdout",
     "output_type": "stream",
     "text": [
      "Sua Lista é:  100\n",
      "Sua Lista é:  102\n",
      "Sua Lista é:  104\n",
      "Sua Lista é:  106\n",
      "Sua Lista é:  108\n",
      "Sua Lista é:  110\n",
      "Sua Lista é:  112\n",
      "Sua Lista é:  114\n",
      "Sua Lista é:  116\n",
      "Sua Lista é:  118\n",
      "Sua Lista é:  120\n",
      "Sua Lista é:  122\n",
      "Sua Lista é:  124\n",
      "Sua Lista é:  126\n",
      "Sua Lista é:  128\n",
      "Sua Lista é:  130\n",
      "Sua Lista é:  132\n",
      "Sua Lista é:  134\n",
      "Sua Lista é:  136\n",
      "Sua Lista é:  138\n",
      "Sua Lista é:  140\n",
      "Sua Lista é:  142\n",
      "Sua Lista é:  144\n",
      "Sua Lista é:  146\n",
      "Sua Lista é:  148\n",
      "Sua Lista é:  150\n"
     ]
    }
   ],
   "source": [
    "# Exercício 4 - Crie uma sequência de números pares entre 100 e 150 e imprima na tela\n",
    "for i in range(100, 151, 2):\n",
    "    print(\"Sua Lista é: \", i)"
   ]
  },
  {
   "cell_type": "code",
   "execution_count": 35,
   "metadata": {},
   "outputs": [
    {
     "name": "stdout",
     "output_type": "stream",
     "text": [
      "Temperatura Agora é:  40\n",
      "Temperatura Agora é:  39\n",
      "Temperatura Agora é:  38\n",
      "Temperatura Agora é:  37\n",
      "Temperatura Agora é:  36\n"
     ]
    }
   ],
   "source": [
    "# Exercício 5 - Crie uma variável chamada temperatura e atribua o valor 40. Enquanto temperatura for maior que 35, \n",
    "# imprima as temperaturas na tela\n",
    "temperatura = 40\n",
    "while temperatura > 35:\n",
    "    print(\"Temperatura Agora é: \", temperatura)\n",
    "    temperatura = temperatura - 1"
   ]
  },
  {
   "cell_type": "code",
   "execution_count": 47,
   "metadata": {},
   "outputs": [
    {
     "name": "stdout",
     "output_type": "stream",
     "text": [
      "Sua Variável é:  0\n",
      "Sua Variável é:  1\n",
      "Sua Variável é:  2\n",
      "Sua Variável é:  3\n",
      "Sua Variável é:  4\n",
      "Sua Variável é:  5\n",
      "Sua Variável é:  6\n",
      "Sua Variável é:  7\n",
      "Sua Variável é:  8\n",
      "Sua Variável é:  9\n",
      "Sua Variável é:  10\n",
      "Sua Variável é:  11\n",
      "Sua Variável é:  12\n",
      "Sua Variável é:  13\n",
      "Sua Variável é:  14\n",
      "Sua Variável é:  15\n",
      "Sua Variável é:  16\n",
      "Sua Variável é:  17\n",
      "Sua Variável é:  18\n",
      "Sua Variável é:  19\n",
      "Sua Variável é:  20\n",
      "Sua Variável é:  21\n",
      "Sua Variável é:  22\n"
     ]
    }
   ],
   "source": [
    "# Exercício 6 - Crie uma variável chamada contador = 0. Enquanto counter for menor que 100, imprima os valores na tela,\n",
    "# mas quando for encontrado o valor 23, interrompa a execução do programa\n",
    "contador = 0\n",
    "while contador < 100:\n",
    "    if contador == 23:\n",
    "        break\n",
    "    print(\"Sua Variável é: \", contador)\n",
    "    contador = contador + 1"
   ]
  },
  {
   "cell_type": "code",
   "execution_count": 49,
   "metadata": {},
   "outputs": [
    {
     "name": "stdout",
     "output_type": "stream",
     "text": [
      "[4, 6, 8, 10, 12, 14, 16, 18, 20]\n"
     ]
    }
   ],
   "source": [
    "# Exercício 7 - Crie uma lista vazia e uma variável com valor 4. Enquanto o valor da variável for menor ou igual a 20, \n",
    "# adicione à lista, apenas os valores pares e imprima a lista\n",
    "lista = []\n",
    "lista2 = 4\n",
    "while (lista2 <= 20):\n",
    "    lista.append(lista2)\n",
    "    lista2 = lista2+2\n",
    "print(lista)\n"
   ]
  },
  {
   "cell_type": "code",
   "execution_count": 50,
   "metadata": {},
   "outputs": [
    {
     "name": "stdout",
     "output_type": "stream",
     "text": [
      "[5, 7, 9, 11, 13, 15, 17, 19, 21, 23, 25, 27, 29, 31, 33, 35, 37, 39, 41, 43]\n"
     ]
    }
   ],
   "source": [
    "# Exercício 8 - Transforme o resultado desta função range em uma lista: range(5, 45, 2)\n",
    "nums = range(5, 45, 2)\n",
    "print(list(nums))"
   ]
  },
  {
   "cell_type": "code",
   "execution_count": 52,
   "metadata": {},
   "outputs": [
    {
     "name": "stdout",
     "output_type": "stream",
     "text": [
      "Vista roupas leves.\n"
     ]
    }
   ],
   "source": [
    "# Exercício 9 - Faça a correção dos erros no código abaixo e execute o programa. Dica: são 3 erros.\n",
    "temperatura = float(input('Qual a temperatura? '))\n",
    "if temperatura > 30:\n",
    "    print('Vista roupas leves.')\n",
    "else:\n",
    "    print('Busque seus casacos.')"
   ]
  },
  {
   "cell_type": "code",
   "execution_count": 53,
   "metadata": {},
   "outputs": [
    {
     "name": "stdout",
     "output_type": "stream",
     "text": [
      "O caracter r aparece 5 vezes na frase.\n"
     ]
    }
   ],
   "source": [
    "# Exercício 10 - Faça um programa que conte quantas vezes a letra \"r\" aparece na frase abaixo. Use um placeholder na \n",
    "# sua instrução de impressão\n",
    "\n",
    "# “A gratidão é a virtude das almas nobres. O quão feliz é uma pessoa depende da profundidade de sua gratidão.” \n",
    "\n",
    "frase = \"A gratidão é a virtude das almas nobres. O quão feliz é uma pessoa depende da profundidade de sua gratidão.\" \n",
    "count = 0\n",
    "for caracter in frase:\n",
    "    if caracter == 'r':\n",
    "        count += 1\n",
    "print(\"O caracter r aparece %s vezes na frase.\" %(count))\n"
   ]
  },
  {
   "cell_type": "code",
   "execution_count": 56,
   "metadata": {},
   "outputs": [
    {
     "name": "stdout",
     "output_type": "stream",
     "text": [
      "O caracter a aparece 11 vezes na frase.\n",
      "O caracter m aparece 13 vezes na frase.\n"
     ]
    }
   ],
   "source": [
    "# Exercício 10 - Faça um programa que conte quantas vezes a letra \"r\" aparece na frase abaixo. Use um placeholder na \n",
    "# sua instrução de impressão\n",
    "# “A gratidão é a virtude das almas nobres. O quão feliz é uma pessoa depende da profundidade de sua gratidão.” \n",
    "\n",
    "frase = \"A gratidão é a virtude das almas nobres. O quão feliz é uma pessoa depende da profundidade de sua gratidão.\" \n",
    "count = 0\n",
    "for caracter in frase:\n",
    "    if caracter == 'a':\n",
    "        count += 1\n",
    "print(\"O caracter a aparece %s vezes na frase.\" %(count))\n",
    "\n",
    "for caracter in frase:\n",
    "    if caracter == 'm':\n",
    "        count += 1\n",
    "print(\"O caracter m aparece %s vezes na frase.\" %(count))\n"
   ]
  },
  {
   "cell_type": "markdown",
   "metadata": {},
   "source": [
    "# Fim"
   ]
  },
  {
   "cell_type": "markdown",
   "metadata": {},
   "source": [
    "### Obrigado\n",
    "\n",
    "### Visite o Blog da Data Science Academy - <a href=\"http://blog.dsacademy.com.br\">Blog DSA</a>"
   ]
  }
 ],
 "metadata": {
  "kernelspec": {
   "display_name": "Python 3 (ipykernel)",
   "language": "python",
   "name": "python3"
  },
  "language_info": {
   "codemirror_mode": {
    "name": "ipython",
    "version": 3
   },
   "file_extension": ".py",
   "mimetype": "text/x-python",
   "name": "python",
   "nbconvert_exporter": "python",
   "pygments_lexer": "ipython3",
   "version": "3.11.5"
  }
 },
 "nbformat": 4,
 "nbformat_minor": 1
}
