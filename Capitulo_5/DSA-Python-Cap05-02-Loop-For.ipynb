{
 "cells": [
  {
   "cell_type": "markdown",
   "metadata": {},
   "source": [
    "# <font color='blue'>Data Science Academy</font>\n",
    "\n",
    "## <font color='blue'>Fundamentos de Linguagem Python Para Análise de Dados e Data Science</font>\n",
    "\n",
    "## <font color='blue'>Capítulo 5 - Loop For</font>"
   ]
  },
  {
   "cell_type": "code",
   "execution_count": 1,
   "metadata": {},
   "outputs": [
    {
     "name": "stdout",
     "output_type": "stream",
     "text": [
      "Versão da Linguagem Python Usada Neste Jupyter Notebook: 3.9.13\n"
     ]
    }
   ],
   "source": [
    "# Versão da Linguagem Python\n",
    "from platform import python_version\n",
    "print('Versão da Linguagem Python Usada Neste Jupyter Notebook:', python_version())"
   ]
  },
  {
   "cell_type": "markdown",
   "metadata": {},
   "source": [
    "## Loop For"
   ]
  },
  {
   "cell_type": "code",
   "execution_count": 2,
   "metadata": {},
   "outputs": [
    {
     "name": "stdout",
     "output_type": "stream",
     "text": [
      "2\n",
      "3\n",
      "4\n"
     ]
    }
   ],
   "source": [
    "# Criando uma tupla e imprimindo cada um dos valores\n",
    "# OBJETO TUPLA() ABRE FECHA PARENTES\n",
    "tp = (2,3,4)\n",
    "#PARA CADA VALOR i DENTRO TUPLA: IMPRIMA\n",
    "for i in tp:\n",
    "    print(i)"
   ]
  },
  {
   "cell_type": "code",
   "execution_count": 3,
   "metadata": {},
   "outputs": [
    {
     "name": "stdout",
     "output_type": "stream",
     "text": [
      "Data\n",
      "Science\n",
      "Academy\n"
     ]
    }
   ],
   "source": [
    "# Criando uma lista e imprimindo cada um dos valores\n",
    "#OBJETO LISTA [] ABRE FECHA COUCHETE \n",
    "ListaDeStrings = [\"Data\", \"Science\", \"Academy\"]\n",
    "#PARA CADA ELEMENTO i DENTRO DA LISTA: IMPRIMA\n",
    "for i in ListaDeStrings:\n",
    "    print(i)"
   ]
  },
  {
   "cell_type": "code",
   "execution_count": 4,
   "metadata": {},
   "outputs": [
    {
     "name": "stdout",
     "output_type": "stream",
     "text": [
      "0\n",
      "1\n",
      "2\n",
      "3\n",
      "4\n"
     ]
    }
   ],
   "source": [
    "# Imprimindo os valores no intervalo entre 0 e 5 (exclusive)\n",
    "#RANGE INTERVALO DE VALORES\n",
    "#PARA CADA CONTADOR DENTRO DO RANGE (0,5) 5=EXCLUSIVO NO CASO QUERO ATE 4 \n",
    "for contador in range(0,5):\n",
    "    print(contador)"
   ]
  },
  {
   "cell_type": "code",
   "execution_count": 5,
   "metadata": {},
   "outputs": [
    {
     "name": "stdout",
     "output_type": "stream",
     "text": [
      "2\n",
      "4\n",
      "6\n",
      "8\n",
      "10\n"
     ]
    }
   ],
   "source": [
    "# Imprimindo os números pares da lista de números\n",
    "lista = [1,2,3,4,5,6,7,8,9,10]\n",
    "#PARA CADA NUMERO DENTRO LISTA ENTÃO:\n",
    "#SE NUMERO DVIDIDO % 2 RESTO == ZERO\n",
    "#NUMEROS PARES\n",
    "for num in lista:\n",
    "    if num % 2 == 0:\n",
    "        print (num)"
   ]
  },
  {
   "cell_type": "code",
   "execution_count": 6,
   "metadata": {},
   "outputs": [
    {
     "name": "stdout",
     "output_type": "stream",
     "text": [
      "0\n",
      "2\n",
      "4\n",
      "6\n",
      "8\n",
      "10\n",
      "12\n",
      "14\n",
      "16\n",
      "18\n",
      "20\n",
      "22\n",
      "24\n",
      "26\n",
      "28\n",
      "30\n",
      "32\n",
      "34\n",
      "36\n",
      "38\n",
      "40\n",
      "42\n",
      "44\n",
      "46\n",
      "48\n",
      "50\n",
      "52\n",
      "54\n",
      "56\n",
      "58\n",
      "60\n",
      "62\n",
      "64\n",
      "66\n",
      "68\n",
      "70\n",
      "72\n",
      "74\n",
      "76\n",
      "78\n",
      "80\n",
      "82\n",
      "84\n",
      "86\n",
      "88\n",
      "90\n",
      "92\n",
      "94\n",
      "96\n",
      "98\n",
      "100\n"
     ]
    }
   ],
   "source": [
    "# Listando os números no intervalo entre 0 e 101, com incremento em 2\n",
    "#PARA NUMEROS DENTRO DO RANGE (O,101,2) 0=INICIO 101=FINAL100 2=PULAR DE 2EM2\n",
    "for i in range(0,101,2):  \n",
    "    print(i)"
   ]
  },
  {
   "cell_type": "code",
   "execution_count": 7,
   "metadata": {},
   "outputs": [
    {
     "name": "stdout",
     "output_type": "stream",
     "text": [
      "P\n",
      "y\n",
      "t\n",
      "h\n",
      "o\n",
      "n\n",
      " \n",
      "é\n",
      " \n",
      "u\n",
      "m\n",
      "a\n",
      " \n",
      "l\n",
      "i\n",
      "n\n",
      "g\n",
      "u\n",
      "a\n",
      "g\n",
      "e\n",
      "m\n",
      " \n",
      "d\n",
      "e\n",
      " \n",
      "p\n",
      "r\n",
      "o\n",
      "g\n",
      "r\n",
      "a\n",
      "m\n",
      "a\n",
      "ç\n",
      "ã\n",
      "o\n",
      " \n",
      "d\n",
      "i\n",
      "v\n",
      "e\n",
      "r\n",
      "t\n",
      "i\n",
      "d\n",
      "a\n",
      "!\n"
     ]
    }
   ],
   "source": [
    "# Strings também são sequências\n",
    "#PARA CARACTER DENTRO DA MENSAGEM ENTÃO IMPRIMA:\n",
    "for caracter in 'Python é uma linguagem de programação divertida!':\n",
    "    print (caracter)"
   ]
  },
  {
   "cell_type": "markdown",
   "metadata": {},
   "source": [
    "## Loop For Aninhado"
   ]
  },
  {
   "cell_type": "code",
   "execution_count": 2,
   "metadata": {},
   "outputs": [
    {
     "name": "stdout",
     "output_type": "stream",
     "text": [
      "\n",
      " 0\n",
      "\n",
      " 0\n",
      "\n",
      " 0\n",
      "\n",
      " 0\n",
      "\n",
      " 0\n",
      "----\n",
      "\n",
      " 0\n",
      "\n",
      " 1\n",
      "\n",
      " 2\n",
      "\n",
      " 3\n",
      "\n",
      " 4\n",
      "----\n",
      "\n",
      " 0\n",
      "\n",
      " 2\n",
      "\n",
      " 4\n",
      "\n",
      " 6\n",
      "\n",
      " 8\n",
      "----\n",
      "\n",
      " 0\n",
      "\n",
      " 3\n",
      "\n",
      " 6\n",
      "\n",
      " 9\n",
      "\n",
      " 12\n",
      "----\n",
      "\n",
      " 0\n",
      "\n",
      " 4\n",
      "\n",
      " 8\n",
      "\n",
      " 12\n",
      "\n",
      " 16\n",
      "----\n"
     ]
    }
   ],
   "source": [
    "# Loops aninhados\n",
    "# UMA DENTRO DA OUTRA\n",
    "\n",
    "\n",
    "lista1 = [0,1,2,3,4]\n",
    "lista2 = [0,1,2,3,4]\n",
    "\n",
    "# Loop externo\n",
    "# PARA LISTA DENTRO LISTA1\n",
    "# 1°LOOP\n",
    "for elemento_lista1 in lista1:\n",
    "    \n",
    "    # Loop interno\n",
    "    # PARA CADA ELEMENTO DENTRO LISTA\n",
    "    # 2°LOOP\n",
    "    for elemento_lista2 in lista2:\n",
    "        \n",
    "        #\\n pula linha\n",
    "        print('\\n', elemento_lista1 * elemento_lista2)\n",
    "        \n",
    "    print('----')"
   ]
  },
  {
   "cell_type": "code",
   "execution_count": 3,
   "metadata": {},
   "outputs": [
    {
     "name": "stdout",
     "output_type": "stream",
     "text": [
      "O número 39 foi encontrado nas duas listas!\n",
      "O número 47 foi encontrado nas duas listas!\n"
     ]
    }
   ],
   "source": [
    "99# O número 47 aparece nas duas listas?\n",
    "# VERIFICAÇAO\n",
    "\n",
    "lista1 = [10,16,24,39,47]\n",
    "lista2 = [39,89,47,76,12]\n",
    "\n",
    "# Loop externo\n",
    "# LOOP VAI PERCORRER\n",
    "for elemento_lista1 in lista1:\n",
    "    \n",
    "    # Loop interno\n",
    "    # LOOP VAI PERCORRER\n",
    "    for elemento_lista2 in lista2:\n",
    "        \n",
    "        # Condicional\n",
    "        # CONDIÇÃO PARA ENTREGAR ITEM\n",
    "        if elemento_lista1 == 47 and elemento_lista2 == 47:\n",
    "            print(\"O número 47 foi encontrado nas duas listas!\")\n",
    "        \n",
    "        if elemento_lista1 == 39 and elemento_lista2 == 39:\n",
    "            print(\"O número 39 foi encontrado nas duas listas!\")"
   ]
  },
  {
   "cell_type": "code",
   "execution_count": 4,
   "metadata": {},
   "outputs": [
    {
     "name": "stdout",
     "output_type": "stream",
     "text": [
      "O soma dos números pares das duas listas é igual a 174\n"
     ]
    }
   ],
   "source": [
    "# Some os números pares da primeira lista com os números pares da segunda lista\n",
    "\n",
    "lista1 = [10,16,24,39,47,2]\n",
    "lista2 = [32,89,47,76,12,2]\n",
    "soma = 0\n",
    "\n",
    "# Loop externo\n",
    "# PARA LISTA DENTRO LISTA DE LISTA\n",
    "for lista in [lista1, lista2]:\n",
    "    \n",
    "    # Loop interno\n",
    "    # PARA NUMERO DENTRO LISTA VERIFICAR:\n",
    "    for num in lista:\n",
    "        \n",
    "        # Condicional\n",
    "        # SE NUMERO DIVIDIDO POR 2 COM RESTO == 0ZERO\n",
    "        if num % 2 == 0:\n",
    "            \n",
    "            # OPERADOR DE ATRIBUIÇAO+SOMA\n",
    "            # VALOR ACUMULADO\n",
    "            soma += num\n",
    "            \n",
    "print(\"O soma dos números pares das duas listas é igual a\", soma)"
   ]
  },
  {
   "cell_type": "code",
   "execution_count": 11,
   "metadata": {},
   "outputs": [
    {
     "data": {
      "text/plain": [
       "[10, 16, 24, 39, 47, 32, 89, 47, 76, 12]"
      ]
     },
     "execution_count": 11,
     "metadata": {},
     "output_type": "execute_result"
    }
   ],
   "source": [
    "# Listas podem ser concatenadas em Python\n",
    "# CONCATENANDO E JUNTAR AS DUAS LISTAS\n",
    "lista1 + lista2"
   ]
  },
  {
   "cell_type": "code",
   "execution_count": 5,
   "metadata": {},
   "outputs": [
    {
     "name": "stdout",
     "output_type": "stream",
     "text": [
      "Soma dos valores pares: 174\n"
     ]
    }
   ],
   "source": [
    "# Some os números pares da primeira lista com os números pares da segunda lista\n",
    "\n",
    "lista1 = [10,16,24,39,47,2]\n",
    "lista2 = [32,89,47,76,12,2]\n",
    "soma = 0\n",
    "\n",
    "# PARA NUMEROS DENTRO DAS LISTAS CONCATENADAS=JUNTAS\n",
    "for num in lista1 + lista2:\n",
    "    # SE NUMEROS DIVIDIDO POR 2 COM RESTO = ZERO ENTÃO:\n",
    "    if num % 2 == 0:\n",
    "        # SOMA O RESULTADO ACUMULADO DO NUMERO\n",
    "        soma += num\n",
    "\n",
    "print(\"Soma dos valores pares:\", soma)"
   ]
  },
  {
   "cell_type": "code",
   "execution_count": 6,
   "metadata": {},
   "outputs": [
    {
     "name": "stdout",
     "output_type": "stream",
     "text": [
      "Maior número: 215.5\n"
     ]
    }
   ],
   "source": [
    "# Loop em lista de listas (matrizes) para encontrar o maior número\n",
    "# ALGARITIMO MAIOR NUMERO\n",
    "\n",
    "matriz = [[42, 23, 34], [100, 215, 114], [10.1, 98.7, 12.3, 215.5]]\n",
    "maior_numero = 0\n",
    "\n",
    "# Loop externo\n",
    "# 1°LOOP PERCORRE MATRIZ\n",
    "for linha in matriz:\n",
    "    \n",
    "    # Loop interno\n",
    "    # 2°LOOP VAI VERIFICAR CADA LINHA\n",
    "    for num in linha:\n",
    "        \n",
    "        # Condicional\n",
    "        # MAIOR NUMERO NO CASO 42 MAIOR QUE 23\n",
    "        if num > maior_numero:\n",
    "            # GUARDA MAIOR NUMERO E SUBSTITUI NO CASO MAIOR NUMERO\n",
    "            maior_numero = num\n",
    "\n",
    "print(\"Maior número:\", maior_numero)"
   ]
  },
  {
   "cell_type": "code",
   "execution_count": 13,
   "metadata": {},
   "outputs": [
    {
     "name": "stdout",
     "output_type": "stream",
     "text": [
      "k1\n",
      "k2\n",
      "k3\n"
     ]
    }
   ],
   "source": [
    "# Listando as chaves de um dicionário\n",
    "# DICIONARIO CHEVE+VALOR\n",
    "dict = {'k1':'Python','k2':'R','k3':'Scala'}\n",
    "for item in dict:\n",
    "    print(item)"
   ]
  },
  {
   "cell_type": "code",
   "execution_count": 16,
   "metadata": {},
   "outputs": [
    {
     "name": "stdout",
     "output_type": "stream",
     "text": [
      "k1 Python\n",
      "k2 R\n",
      "k3 Scala\n"
     ]
    }
   ],
   "source": [
    "# Imprimindo chave e valor do dicionário. Usando o método items() para retornar os itens de um dicionário\n",
    "for k,valor in dict.items():\n",
    "    print (k,valor)"
   ]
  },
  {
   "cell_type": "markdown",
   "metadata": {},
   "source": [
    "# Fim"
   ]
  },
  {
   "cell_type": "markdown",
   "metadata": {},
   "source": [
    "### Obrigado\n",
    "\n",
    "### Visite o Blog da Data Science Academy - <a href=\"http://blog.dsacademy.com.br\">Blog DSA</a>"
   ]
  }
 ],
 "metadata": {
  "kernelspec": {
   "display_name": "Python 3 (ipykernel)",
   "language": "python",
   "name": "python3"
  },
  "language_info": {
   "codemirror_mode": {
    "name": "ipython",
    "version": 3
   },
   "file_extension": ".py",
   "mimetype": "text/x-python",
   "name": "python",
   "nbconvert_exporter": "python",
   "pygments_lexer": "ipython3",
   "version": "3.11.5"
  }
 },
 "nbformat": 4,
 "nbformat_minor": 1
}
