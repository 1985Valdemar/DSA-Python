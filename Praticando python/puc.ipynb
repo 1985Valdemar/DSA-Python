{
 "cells": [
  {
   "cell_type": "markdown",
   "metadata": {},
   "source": [
    "Você recebe um inteiro N onde 0 <= N <= 100, seguido por outra linha de entrada que tem uma palavra W com comprimento L onde 1 <= L <= 50. Sua tarefa é imprimir N linhas com a palavra W. As linhas de sua saída não devem ter espaços à direita ou à esquerda."
   ]
  },
  {
   "cell_type": "code",
   "execution_count": 2,
   "metadata": {},
   "outputs": [
    {
     "name": "stdout",
     "output_type": "stream",
     "text": [
      "val\n",
      "val\n",
      "val\n",
      "val\n",
      "val\n"
     ]
    }
   ],
   "source": [
    "# This is Python 3\n",
    "import sys\n",
    "\n",
    "# Leitura do valor de N\n",
    "N = int(input(\"Digite Quantidade de Repetições\"))\n",
    "\n",
    "# Leitura da palavra W\n",
    "palavra = input(\"Digite Uma Palavra para ser Repetida\")\n",
    "\n",
    "# Remover espaços à direita e à esquerda da palavra\n",
    "palavra_formatada = palavra.strip()\n",
    "\n",
    "# Imprimir a palavra formatada N vezes\n",
    "for _ in range(N):\n",
    "    print(palavra_formatada)\n"
   ]
  },
  {
   "cell_type": "markdown",
   "metadata": {},
   "source": [
    "Você recebe um inteiro N onde 0 <= N <= 100, seguido por outra linha de entrada que tem uma palavra W com comprimento L onde 1 <= L <= 50. Sua tarefa é imprimir N linhas com a palavra W. As linhas de sua saída não devem ter espaços à direita ou à esquerda."
   ]
  },
  {
   "cell_type": "code",
   "execution_count": 5,
   "metadata": {},
   "outputs": [
    {
     "name": "stdout",
     "output_type": "stream",
     "text": [
      "dani\n",
      "dani\n",
      "dani\n",
      "dani\n",
      "dani\n",
      "dani\n"
     ]
    }
   ],
   "source": [
    "import sys\n",
    "\n",
    "# LEITURA DE QUANTIDADE DA VARIAVEL\n",
    "N = int(input(\"Digite a Quantidade para Repetir\"))\n",
    "\n",
    "# SOLICITAR PALAVRA OU LETRA\n",
    "palavra1 = input(\"Digite uma Letra ou frase para Retir\")\n",
    "\n",
    "# REMOVER ESPAÇOS DIREITA E ESQUERDA usando strip\n",
    "palavra_formatada1 = palavra1.strip()\n",
    "\n",
    "# Imprimir a palavra formatada N vezes\n",
    "# PARA N IN=DENTRO RANGE(N):entao\n",
    "for _ in range(N):\n",
    "    print(palavra_formatada1)\n",
    "    \n",
    "\n",
    "\n"
   ]
  },
  {
   "cell_type": "code",
   "execution_count": null,
   "metadata": {},
   "outputs": [],
   "source": [
    "import sys\n",
    "n = int(input(\"digite um valor\"))\n",
    "\n",
    "# SOLICITAR PALAVRA OU LETRA\n",
    "palavra = input(\"digite uma palavra\")\n",
    "\n",
    "\n",
    "\n"
   ]
  },
  {
   "cell_type": "markdown",
   "metadata": {},
   "source": [
    "Você recebe um inteiro N onde 0 <= N <= 100, seguido por outra linha de entrada que tem uma palavra W com comprimento L onde 1 <= L <= 50. Sua tarefa é imprimir N linhas com a palavra W. As linhas de sua saída não devem ter espaços à direita ou à esquerda."
   ]
  },
  {
   "cell_type": "code",
   "execution_count": 6,
   "metadata": {},
   "outputs": [
    {
     "name": "stdout",
     "output_type": "stream",
     "text": [
      "Sua Repetição e Quantidade val dani\n",
      "Sua Repetição e Quantidade val dani\n",
      "Sua Repetição e Quantidade val dani\n",
      "Sua Repetição e Quantidade val dani\n",
      "Sua Repetição e Quantidade val dani\n",
      "Sua Repetição e Quantidade val dani\n",
      "Sua Repetição e Quantidade val dani\n",
      "Sua Repetição e Quantidade val dani\n",
      "Sua Repetição e Quantidade val dani\n",
      "Sua Repetição e Quantidade val dani\n"
     ]
    }
   ],
   "source": [
    "import sys\n",
    "\n",
    "# LEITURA DE QUANTIDADE DA VARIAVEL\n",
    "n = int(input(\"Digite valor de repetições\"))\n",
    "\n",
    "# SOLICITAR PALAVRA OU LETRA\n",
    "palavra2 = input(\"Digite uma Palaha ou Letra pra Ser Repetida\")\n",
    "\n",
    "# REMOVER ESPAÇOS DIREITA E ESQUERDA usando strip\n",
    "palavra_formatada2 = palavra2.strip()\n",
    "\n",
    "\n",
    "# Imprimir a palavra formatada N vezes\n",
    "# PARA N IN=DENTRO RANGE(N):entao\n",
    "for _ in range(n):\n",
    "    print(\"Sua Repetição e Quantidade\", palavra_formatada2)\n"
   ]
  },
  {
   "cell_type": "markdown",
   "metadata": {},
   "source": [
    "Exercício 1:\n",
    "Objetivo: Imprimir uma palavra sem espaços à direita ou à esquerda, repetida N vezes.\n",
    "\n",
    "# This is Python 3\n",
    "# Import\n",
    "\n",
    "# LEITURA DE QUANTIDADE DA VARIAVEL\n",
    "\n",
    "# SOLICITAR PALAVRA OU LETRA\n",
    "\n",
    "# REMOVER ESPAÇOS DIREITA E ESQUERDA usando strip\n",
    "\n",
    "# Imprimir a palavra formatada N vezes\n",
    "# PARA N IN=DENTRO RANGE(N):entao\n"
   ]
  },
  {
   "cell_type": "code",
   "execution_count": 13,
   "metadata": {},
   "outputs": [
    {
     "name": "stdout",
     "output_type": "stream",
     "text": [
      "Quantidade 10 Vezes Dani\n",
      "Quantidade 10 Vezes Dani\n",
      "Quantidade 10 Vezes Dani\n",
      "Quantidade 10 Vezes Dani\n",
      "Quantidade 10 Vezes Dani\n",
      "Quantidade 10 Vezes Dani\n",
      "Quantidade 10 Vezes Dani\n",
      "Quantidade 10 Vezes Dani\n",
      "Quantidade 10 Vezes Dani\n",
      "Quantidade 10 Vezes Dani\n"
     ]
    }
   ],
   "source": [
    "# This is Python 3\n",
    "# Import\n",
    "import sys\n",
    "\n",
    "# LEITURA DE QUANTIDADE DA VARIAVEL\n",
    "quantidade = int(input(\"Digite Quantidade De Repetições\"))\n",
    "\n",
    "# SOLICITAR PALAVRA OU LETRA\n",
    "paalavra = input(\"Digite Uma Palavra ou Letra Para Ser Repetido\")\n",
    "\n",
    "# REMOVER ESPAÇOS DIREITA E ESQUERDA usando strip\n",
    "formatar = paalavra.strip()\n",
    "\n",
    "# Imprimir a palavra formatada N vezes\n",
    "# PARA IN=DENTRO RANGE(N):entao\n",
    "for _ in range(quantidade):\n",
    "    print(\"Quantidade\", quantidade, \"Vezes\", paalavra)\n",
    "    \n"
   ]
  },
  {
   "cell_type": "markdown",
   "metadata": {},
   "source": [
    "Objetivo: Ler um número N e uma palavra W, calcular o comprimento da palavra e imprimir N vezes o comprimento da palavra.\n",
    "\n",
    "# This is Python 3\n",
    "import\n",
    "\n",
    "# LEITURA DE QUANTIDADE DA VARIAVEL\n",
    "\n",
    "# SOLICITAR PALAVRA OU LETRA\n",
    "\n",
    "# Calcular o comprimento da palavra usando len\n",
    "\n",
    "# Imprimir a palavra comprimento N vezes\n",
    "# PARA N IN=DENTRO RANGE(N):entao"
   ]
  },
  {
   "cell_type": "code",
   "execution_count": 28,
   "metadata": {},
   "outputs": [
    {
     "name": "stdout",
     "output_type": "stream",
     "text": [
      "Comprimento da Palavra é:  3\n",
      "Comprimento da Palavra é:  3\n",
      "Comprimento da Palavra é:  3\n",
      "Comprimento da Palavra é:  3\n",
      "Comprimento da Palavra é:  3\n",
      "Comprimento da Palavra é:  3\n",
      "Comprimento da Palavra é:  3\n",
      "Comprimento da Palavra é:  3\n",
      "Comprimento da Palavra é:  3\n",
      "Comprimento da Palavra é:  3\n"
     ]
    }
   ],
   "source": [
    "# This is Python 3\n",
    "import sys\n",
    "\n",
    "# LEITURA DE QUANTIDADE DA VARIAVEL\n",
    "quant = int(input(\"Digite Quantidade\"))\n",
    "\n",
    "# SOLICITAR PALAVRA OU LETRA\n",
    "palavra0 = input(\"Digite sua Palavra ou Letra\")\n",
    "\n",
    "# Calcular o comprimento da palavra usando len\n",
    "comprimento = len(palavra0)\n",
    "\n",
    "# Imprimir a palavra comprimento N vezes\n",
    "# PARA N IN=DENTRO RANGE(N):entao\n",
    "for _ in range(quant):\n",
    "    print(\"Comprimento da Palavra é: \", comprimento)"
   ]
  },
  {
   "cell_type": "code",
   "execution_count": 29,
   "metadata": {},
   "outputs": [
    {
     "name": "stdout",
     "output_type": "stream",
     "text": [
      "Comprimento 3\n",
      "Comprimento 3\n"
     ]
    }
   ],
   "source": [
    "import sys\n",
    "\n",
    "# Leitura do valor de N\n",
    "N = int(input(\"Digite N\"))\n",
    "\n",
    "# Leitura da palavra W\n",
    "palavra = input(\"Digite W\")\n",
    "\n",
    "# Calcular o comprimento da palavra\n",
    "comprimento_palavra = len(palavra)\n",
    "\n",
    "# Imprimir N vezes o comprimento da palavra\n",
    "for _ in range(N):\n",
    "    print(\"Comprimento\",comprimento_palavra)"
   ]
  },
  {
   "cell_type": "markdown",
   "metadata": {},
   "source": [
    "Exercício 3:\n",
    "Objetivo: Ler um número N e uma palavra W, imprimir N linhas consecutivas, cada uma contendo uma letra da palavra.\n",
    "\n",
    "# This is Python 3\n",
    "import \n",
    "\n",
    "# Leitura do valor de N\n",
    "N = int(input())\n",
    "\n",
    "# Leitura da palavra W\n",
    "palavra = input()\n",
    "\n",
    "# Imprimir N linhas, cada uma contendo uma letra da palavra\n",
    "for letra in palavra:\n",
    "    print(letra)"
   ]
  },
  {
   "cell_type": "code",
   "execution_count": 34,
   "metadata": {},
   "outputs": [
    {
     "name": "stdout",
     "output_type": "stream",
     "text": [
      "Seu Resultado v\n",
      "Seu Resultado a\n",
      "Seu Resultado l\n",
      "Seu Resultado d\n",
      "Seu Resultado e\n",
      "Seu Resultado m\n",
      "Seu Resultado a\n",
      "Seu Resultado r\n"
     ]
    }
   ],
   "source": [
    "# IMPORT\n",
    "import sys\n",
    " \n",
    "# DIGITE VALOR\n",
    "NN = int(input(\"Digite Valor N\"))\n",
    "\n",
    "# DIGITE FARASE OU LETRA\n",
    "palavraa = input(\"Digite W\")\n",
    "\n",
    "# para letra dentro palavra:entao\n",
    "# IMPRIMENDO N LINHAS CONSECUTIVAS\n",
    "\n",
    "for letra in palavraa:\n",
    "    print(\"Seu Resultado\", letra) \n"
   ]
  },
  {
   "cell_type": "code",
   "execution_count": 38,
   "metadata": {},
   "outputs": [
    {
     "name": "stdout",
     "output_type": "stream",
     "text": [
      "Sua Palavra é:  v\n",
      "Sua Palavra é:  a\n",
      "Sua Palavra é:  l\n"
     ]
    }
   ],
   "source": [
    "#Exercício 3:\n",
    "#Objetivo: Ler um número N e uma palavra W, imprimir N linhas consecutivas, cada uma contendo uma letra da palavra.\n",
    "\n",
    "# IMPORT\n",
    "import sys\n",
    " \n",
    "# DIGITE VALOR\n",
    "valor = int(input(\"Digite Numero\"))\n",
    "\n",
    "# DIGITE FARASE OU LETRA\n",
    "frase = input(\"Digite sua frase ou nome\")\n",
    "\n",
    "# para letra dentro palavra:entao\n",
    "# IMPRIMENDO N LINHAS CONSECUTIVAS\n",
    "for letra in frase :\n",
    "    print(\"Sua Palavra é: \", letra) "
   ]
  },
  {
   "cell_type": "code",
   "execution_count": 37,
   "metadata": {},
   "outputs": [
    {
     "name": "stdout",
     "output_type": "stream",
     "text": [
      "Seu Comprimeto é: 6\n"
     ]
    }
   ],
   "source": [
    "#Objetivo: Ler um número N e uma palavra W, calcular o comprimento da palavra e imprimir N vezes o comprimento da palavra.\n",
    "\n",
    "# This is Python 3\n",
    "import sys\n",
    "\n",
    "# LEITURA DE QUANTIDADE DA VARIAVEL\n",
    "quantia = int(input(\"Digite a Quantidade que Deseja\"))\n",
    "\n",
    "# SOLICITAR PALAVRA OU LETRA\n",
    "letra = input(\"Digite Frase ou Nome\")\n",
    "\n",
    "# Calcular o comprimento da palavra usando len\n",
    "comprimentoo = len(letra)\n",
    "\n",
    "# Imprimir a palavra comprimento N vezes\n",
    "# PARA N IN=DENTRO RANGE(N):entao\n",
    "for n in range(quantia):\n",
    "    print(\"Seu Comprimeto é:\",comprimentoo)"
   ]
  },
  {
   "cell_type": "code",
   "execution_count": 40,
   "metadata": {},
   "outputs": [
    {
     "name": "stdout",
     "output_type": "stream",
     "text": [
      "Sua Seguencia de impresão Será está: v\n",
      "Sua Seguencia de impresão Será está: a\n",
      "Sua Seguencia de impresão Será está: l\n"
     ]
    }
   ],
   "source": [
    "#Exercício 3:\n",
    "#Objetivo: Ler um número N e uma palavra W, imprimir N linhas consecutivas, cada uma contendo uma letra da palavra.\n",
    "\n",
    "import sys\n",
    "\n",
    "Numero = int(input(\"Digite um Numero: \"))\n",
    "\n",
    "palavre = input(\"Digite Uma Palavra: \")\n",
    "\n",
    "for letras in palavre:\n",
    "    print(\"Sua Seguencia de impresão Será está:\", letras)\n"
   ]
  },
  {
   "cell_type": "code",
   "execution_count": 41,
   "metadata": {},
   "outputs": [
    {
     "name": "stdout",
     "output_type": "stream",
     "text": [
      "Seu Comprimento é:  3\n",
      "Seu Comprimento é:  3\n",
      "Seu Comprimento é:  3\n"
     ]
    }
   ],
   "source": [
    "#Objetivo: Ler um número N e uma palavra W, calcular o comprimento da palavra e imprimir N vezes o comprimento da palavra.\n",
    "\n",
    "import sys\n",
    "\n",
    "m = int(input(\"Digite Numero\"))\n",
    "\n",
    "palavro = input(\"Digite Uma Palavra\")\n",
    "\n",
    "quanto = len(palavro)\n",
    "\n",
    "for letra in palavro:\n",
    "    print(\"Seu Comprimento é: \", quanto)"
   ]
  }
 ],
 "metadata": {
  "kernelspec": {
   "display_name": "base",
   "language": "python",
   "name": "python3"
  },
  "language_info": {
   "codemirror_mode": {
    "name": "ipython",
    "version": 3
   },
   "file_extension": ".py",
   "mimetype": "text/x-python",
   "name": "python",
   "nbconvert_exporter": "python",
   "pygments_lexer": "ipython3",
   "version": "3.11.5"
  }
 },
 "nbformat": 4,
 "nbformat_minor": 2
}
