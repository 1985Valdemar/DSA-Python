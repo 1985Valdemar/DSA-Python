{
 "cells": [
  {
   "cell_type": "markdown",
   "metadata": {},
   "source": [
    "Variáveis e Constantes:\n",
    "Crie uma variável para armazenar sua idade e imprima-a.\n",
    "Declare uma constante para representar o valor de π (pi) e use-a para calcular a área de um círculo.\n",
    "Atribua valores a duas variáveis e troque os valores entre elas sem usar uma variável temporária.\n",
    "\n",
    "Operadores Aritméticos:\n",
    "Escreva um programa que calcule a média de três notas.\n",
    "Converta uma temperatura em graus Celsius para Fahrenheit.\n",
    "Implemente uma calcul        "
   ]
  },
  {
   "cell_type": "code",
   "execution_count": 2,
   "metadata": {},
   "outputs": [
    {
     "name": "stdout",
     "output_type": "stream",
     "text": [
      "Valdemar 38 anos\n"
     ]
    }
   ],
   "source": [
    "# Crie uma variável para armazenar sua idade e imprima-a.\n",
    "idade = 38\n",
    "nome = \"Valdemar\"\n",
    "print(nome,idade,\"anos\")"
   ]
  },
  {
   "cell_type": "code",
   "execution_count": 3,
   "metadata": {},
   "outputs": [
    {
     "name": "stdout",
     "output_type": "stream",
     "text": [
      "A area do circulo é:  78.53981633974483\n"
     ]
    }
   ],
   "source": [
    "# Declare uma constante para representar o valor de π (pi) e use-a para calcular a área de um círculo.\n",
    "import math\n",
    "\n",
    "PI = math.pi\n",
    "raio = 5 #substitui pelo valor do circulo\n",
    "area =PI*(raio ** 2) #**2 i igual potencia\n",
    "print(\"A area do circulo é: \",area)\n"
   ]
  },
  {
   "cell_type": "code",
   "execution_count": 4,
   "metadata": {},
   "outputs": [
    {
     "name": "stdout",
     "output_type": "stream",
     "text": [
      "Valor de a após a troca: 20\n",
      "Valor de b após a troca: 10\n"
     ]
    }
   ],
   "source": [
    "#Atribua valores a duas variáveis e troque os valores entre elas sem usar uma variável temporária.\n",
    "a = 10\n",
    "b = 20\n",
    "\n",
    "# Trocar os valores sem usar uma variável temporária\n",
    "a = a + b\n",
    "b = a - b\n",
    "a = a - b\n",
    "\n",
    "print(\"Valor de a após a troca:\", a)\n",
    "print(\"Valor de b após a troca:\", b)"
   ]
  },
  {
   "cell_type": "code",
   "execution_count": 5,
   "metadata": {},
   "outputs": [
    {
     "name": "stdout",
     "output_type": "stream",
     "text": [
      "Sua média Coresponde á:  7.333333333333333\n"
     ]
    }
   ],
   "source": [
    "#Escreva um programa que calcule a média de três notas.\n",
    "nota1 = float(input(\"Digite sua 1° Nota: \"))\n",
    "nota2 = float(input(\"Digite sua 2° Nota: \"))\n",
    "nota3 = float(input(\"Digite sua 3° Nota: \"))\n",
    "\n",
    "media = (nota1 + nota2 + nota3)/3\n",
    "print(\"Sua média Coresponde á: \",media)"
   ]
  },
  {
   "cell_type": "code",
   "execution_count": 6,
   "metadata": {},
   "outputs": [
    {
     "name": "stdout",
     "output_type": "stream",
     "text": [
      "Sua Temperatura Convertida para Fahrenheit é:  33.8\n"
     ]
    }
   ],
   "source": [
    "#Converta uma temperatura em graus Celsius para Fahrenheit.\n",
    "celsius = float(input(\"Digite a Temperatura em graus Celsius: \"))\n",
    "fahrenheit = (celsius * 9/5)+ 32\n",
    "print(\"Sua Temperatura Convertida para Fahrenheit é: \", fahrenheit)"
   ]
  },
  {
   "cell_type": "code",
   "execution_count": 17,
   "metadata": {},
   "outputs": [
    {
     "name": "stdout",
     "output_type": "stream",
     "text": [
      "Seja Bem Vindo/a\n",
      "Selecione opcao\n",
      " 1 - Soma\n",
      " 2 - Subtração\n",
      " 3 - Divisão\n",
      " 4 - Multiplicação\n",
      "Sua Multiplicação é:  5.0 * 5.0 = 25.0\n"
     ]
    }
   ],
   "source": [
    "#Implemente uma calculadora simples que realiza operações de adição, subtração, multiplicação e divisão:\n",
    "print(\"Seja Bem Vindo/a\")\n",
    "numero1 = float(input(\"Digite 1° Numero: \"))\n",
    "numero2 = float(input(\"Digite 2° Numero: \"))\n",
    "print(\"Selecione opcao\")\n",
    "print(\" 1 - Soma\")\n",
    "print(\" 2 - Subtração\")\n",
    "print(\" 3 - Divisão\")\n",
    "print(\" 4 - Multiplicação\")\n",
    "\n",
    "menuoperacao = input(\"Qual Operação Deseja (1/2/3/4)\")\n",
    "\n",
    "soma = numero1+numero2\n",
    "subtracao = numero1-numero2\n",
    "divisao = numero1/numero2\n",
    "multiplicacao = numero1*numero2\n",
    "\n",
    "if menuoperacao == \"1\":\n",
    "    print(\"Sua Soma é: \", numero1, \"+\", numero2, \"=\", soma)\n",
    "elif menuoperacao == \"2\":\n",
    "    print(\"Sua Subtração é: \", numero1, \"-\", numero2, \"=\", subtracao)\n",
    "elif menuoperacao == \"3\":\n",
    "    print(\"Sua Divisão é: \", numero1, \"/\", numero2, \"=\", divisao)\n",
    "elif menuoperacao == \"4\":\n",
    "    print(\"Sua Multiplicação é: \", numero1, \"*\", numero2, \"=\", multiplicacao)\n",
    "else:\n",
    "    print(\"Tente Novamente\")\n",
    "    "
   ]
  },
  {
   "cell_type": "code",
   "execution_count": 20,
   "metadata": {},
   "outputs": [
    {
     "name": "stdout",
     "output_type": "stream",
     "text": [
      "Seu nome é: val , Idade: 38.0 anos\n"
     ]
    }
   ],
   "source": [
    "# Crie uma variável para armazenar seu nome e idade e imprima-a.\n",
    "nome = input(\"Digite Seu Nome: \")\n",
    "idade = float(input(\"Digite Sua Idade: \"))\n",
    "print(\"Seu nome é:\",nome,\",\",\"Idade:\",idade,\"anos\")\n"
   ]
  },
  {
   "cell_type": "code",
   "execution_count": 40,
   "metadata": {},
   "outputs": [
    {
     "name": "stdout",
     "output_type": "stream",
     "text": [
      "Sua Área é: 78.53981633974483\n"
     ]
    }
   ],
   "source": [
    "# Declare uma constante para representar o valor de π (pi) e use-a para calcular a área de um círculo.\n",
    "import math\n",
    "PI = math.pi\n",
    "raioo = 5 # colocar aqui valor referente ao raio\n",
    "areaa = PI*(raioo ** 2)\n",
    "print(\"Sua Área é:\",areaa)\n"
   ]
  },
  {
   "cell_type": "code",
   "execution_count": 21,
   "metadata": {},
   "outputs": [
    {
     "name": "stdout",
     "output_type": "stream",
     "text": [
      "Valor Trocado de a =  10\n",
      "Valor Trocado de b =  5\n"
     ]
    }
   ],
   "source": [
    "#Atribua valores a duas variáveis e troque os valores entre elas sem usar uma variável temporária.\n",
    "a = 5\n",
    "b = 10\n",
    "\n",
    "a = a + b\n",
    "b = a - b\n",
    "a = a - b\n",
    "\n",
    "print(\"Valor Trocado de a = \", a)\n",
    "print(\"Valor Trocado de b = \",b)\n"
   ]
  },
  {
   "cell_type": "code",
   "execution_count": 24,
   "metadata": {},
   "outputs": [
    {
     "name": "stdout",
     "output_type": "stream",
     "text": [
      "Reprovado sua Média é: 5.333333333333333\n"
     ]
    }
   ],
   "source": [
    "#Escreva um programa que calcule a média de três notas.\n",
    "notaa1 = float(input(\"Digite sua 1° Nota\"))\n",
    "notaa2 = float(input(\"Digite sua 2° Nota\"))\n",
    "notaa3 = float(input(\"Digite sua 3° Nota\"))\n",
    "\n",
    "mediaa = (notaa1 + notaa2 + notaa3)/3\n",
    "\n",
    "if mediaa >= 7:\n",
    "    print(\"Aprovado Sua Média é:\",mediaa)\n",
    "elif mediaa >= 6:\n",
    "    print(\"Está de Recuparação sua média é:\",mediaa)\n",
    "else:\n",
    "    print(\"Reprovado sua Média é:\",mediaa)"
   ]
  },
  {
   "cell_type": "code",
   "execution_count": 41,
   "metadata": {},
   "outputs": [
    {
     "name": "stdout",
     "output_type": "stream",
     "text": [
      "Sua Temperatura em Fahrenheit é: 33.8\n"
     ]
    }
   ],
   "source": [
    "#Converta uma temperatura em graus Celsius para Fahrenheit.\n",
    "celsiuss = float(input(\"Digite sua Temperatura em Graus Celsius para converter: \"))\n",
    "fahrenheitt = (celsiuss * 9/5)+32\n",
    "print(\"Sua Temperatura em Fahrenheit é:\",fahrenheitt)"
   ]
  },
  {
   "cell_type": "code",
   "execution_count": 42,
   "metadata": {},
   "outputs": [
    {
     "name": "stdout",
     "output_type": "stream",
     "text": [
      "                  °o° Seja Bem Vindo/a °o° \n",
      "################# Calculadora Simples #################\n",
      "\n",
      " 1 - Soma\n",
      " 2 - Subtrair\n",
      " 3 - Divisão\n",
      " 4 - Multiplicação\n",
      "\n",
      "Soma será: 5.0 + 5.0 = 10.0\n",
      "\n",
      "***************** Obrigado/a Pela Participação ***************** \n"
     ]
    }
   ],
   "source": [
    "#Implemente uma calculadora simples que realiza operações de adição, subtração, multiplicação e divisão:\n",
    "print(\"                  °o° Seja Bem Vindo/a °o° \")\n",
    "print(\"################# Calculadora Simples #################\")\n",
    "print(\"\\n 1 - Soma\")\n",
    "print(\" 2 - Subtrair\")\n",
    "print(\" 3 - Divisão\")\n",
    "print(\" 4 - Multiplicação\")\n",
    "num1 = float(input(\"Digite 1° Numero\"))\n",
    "num2 = float(input(\"Digite 2° Numero\"))\n",
    "\n",
    "\n",
    "operacaomenu = input(\"Escolha uma operação (1/2/3/4\")\n",
    "\n",
    "somaa = num1 + num2\n",
    "subtracaoo = num1 - num2\n",
    "divisaoo = num1 / num2\n",
    "multiplicacaoo = num1 * num2\n",
    "\n",
    "if operacaomenu == \"1\":\n",
    "    print(\"\\nSoma será:\",num1,\"+\", num2, \"=\" ,somaa)\n",
    "elif operacaomenu == \"2\":\n",
    "    print(\"\\nSubtração é:\",num1,\"-\", num2, \"=\" ,subtracaoo)\n",
    "elif operacaomenu == \"3\":\n",
    "    print(\"\\nDivisão é:\",num1,\"/\", num2, \"=\" ,divisaoo)\n",
    "elif operacaomenu == \"4\":\n",
    "    print(\"\\nMultiplicação é:\",num1,\"*\", num2, \"=\" ,multiplicacaoo)\n",
    "else:\n",
    "    print(\"\\nOpção Invalida Tente Novamente\")\n",
    "    \n",
    "print(\"\\n***************** Obrigado/a Pela Participação ***************** \")\n"
   ]
  }
 ],
 "metadata": {
  "kernelspec": {
   "display_name": "base",
   "language": "python",
   "name": "python3"
  },
  "language_info": {
   "codemirror_mode": {
    "name": "ipython",
    "version": 3
   },
   "file_extension": ".py",
   "mimetype": "text/x-python",
   "name": "python",
   "nbconvert_exporter": "python",
   "pygments_lexer": "ipython3",
   "version": "3.11.5"
  }
 },
 "nbformat": 4,
 "nbformat_minor": 2
}
